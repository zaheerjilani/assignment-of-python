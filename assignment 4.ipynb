{
 "cells": [
  {
   "cell_type": "code",
   "execution_count": 1,
   "id": "c318e27f",
   "metadata": {},
   "outputs": [
    {
     "name": "stdout",
     "output_type": "stream",
     "text": [
      "twinkle, nkle, little star,\n",
      "How I wonder what you are!\n",
      "Up above the world so high,\n",
      "Like a diamond in the sky.\n",
      "\n",
      "Twinkle, twinkle, little star,\n",
      "How I wonder what you are\n"
     ]
    }
   ],
   "source": [
    "# Write a Python program to print the following string in a specific format (see the\n",
    "# output).\n",
    "print ('''twinkle, nkle, little star,\n",
    "How I wonder what you are!\n",
    "Up above the world so high,\n",
    "Like a diamond in the sky.\n",
    "\n",
    "Twinkle, twinkle, little star,\n",
    "How I wonder what you are''')"
   ]
  },
  {
   "cell_type": "code",
   "execution_count": 2,
   "id": "ee4df549",
   "metadata": {},
   "outputs": [
    {
     "name": "stdout",
     "output_type": "stream",
     "text": [
      "3.8.8\n"
     ]
    }
   ],
   "source": [
    "# Write a Python program to get the Python version you are using\n",
    "from platform import python_version\n",
    "\n",
    "print(python_version())"
   ]
  },
  {
   "cell_type": "code",
   "execution_count": 3,
   "id": "8da9ac3c",
   "metadata": {},
   "outputs": [
    {
     "name": "stdout",
     "output_type": "stream",
     "text": [
      "2019-12-13 15:44:25\n"
     ]
    }
   ],
   "source": [
    "# Write a Python program to display the current date and time\n",
    "from datetime import datetime\n",
    "print(datetime.fromtimestamp(1576280665))"
   ]
  },
  {
   "cell_type": "code",
   "execution_count": 4,
   "id": "ffd0eb8c",
   "metadata": {},
   "outputs": [
    {
     "name": "stdout",
     "output_type": "stream",
     "text": [
      "enter radius of a circle8\n",
      "201.06192982976\n"
     ]
    }
   ],
   "source": [
    "# Write a Python program which accepts the radius of a circle from the user and compute\n",
    "# the area.\n",
    "a = int(input('enter radius of a circle'))\n",
    "pi = 3.14159265359\n",
    "Area = pi * (a*a)\n",
    "print(Area)\n"
   ]
  },
  {
   "cell_type": "code",
   "execution_count": 5,
   "id": "3be62b5e",
   "metadata": {},
   "outputs": [
    {
     "name": "stdout",
     "output_type": "stream",
     "text": [
      "enter your first namesaim\n",
      "enter your second namekamal\n",
      "saim kamal\n"
     ]
    }
   ],
   "source": [
    "# Write a Python program which accepts the user's first and last name and print them in\n",
    "# reverse order with a space between them.\n",
    "a = input('enter your first name')\n",
    "b = input('enter your second name')\n",
    "print(a , b)"
   ]
  },
  {
   "cell_type": "code",
   "execution_count": 7,
   "id": "b674cc32",
   "metadata": {},
   "outputs": [
    {
     "name": "stdout",
     "output_type": "stream",
     "text": [
      "Enter a number3\n",
      "Enter second number4\n",
      "7\n"
     ]
    }
   ],
   "source": [
    "# Write a python program which takes two inputs from user and print them addition\n",
    "a = int(input('Enter a number'))\n",
    "b = int(input('Enter second number'))\n",
    "print(a + b)"
   ]
  },
  {
   "cell_type": "code",
   "execution_count": 14,
   "id": "66b5f71d",
   "metadata": {},
   "outputs": [
    {
     "name": "stdout",
     "output_type": "stream",
     "text": [
      "Eng Marks88\n",
      "Maths marks94\n",
      "computer marks85\n",
      "urdu marks65\n",
      "Islamiat marks79\n",
      "411\n",
      "82.19999999999999\n",
      "Grade A+\n"
     ]
    }
   ],
   "source": [
    "# Write a program which takes 5 inputs from user for different subject’s marks, total it\n",
    "# and generate mark sheet using grades ?\n",
    "a = int(input('Eng Marks'))\n",
    "b = int(input(\"Maths marks\"))\n",
    "c = int(input(\"computer marks\"))\n",
    "d = int(input(\"urdu marks\"))\n",
    "e = int(input(\"Islamiat marks\"))\n",
    "total = (a + b + c + d + e)\n",
    "print (total)\n",
    "percentage = total/500*100\n",
    "print(percentage)\n",
    "if percentage < 100 and percentage > 80:\n",
    "    print('Grade A+')\n",
    "elif percentage < 80 and percentage < 70:\n",
    "    print('Grade A')\n",
    "elif percentage > 70 and percentage < 60:\n",
    "    print('Grade B')\n",
    "elif percentage > 60 and percentage < 50:\n",
    "    print('Grade C')\n",
    "elif percentage > 50 and percentage < 40:\n",
    "    print('Grade D')\n",
    "elif percentage > 40 and percentage < 80:\n",
    "    print('Grade E')\n",
    "else:\n",
    "    print(\"you are fail\")"
   ]
  },
  {
   "cell_type": "code",
   "execution_count": 33,
   "id": "a3ee4c10",
   "metadata": {},
   "outputs": [
    {
     "name": "stdout",
     "output_type": "stream",
     "text": [
      "Enter a number6\n",
      "num is even\n"
     ]
    }
   ],
   "source": [
    "# Write a program which take input from user and identify that the given number is even\n",
    "# or odd?\n",
    "a = int(input('Enter a number'))\n",
    "if (a / 2) == 0:\n",
    " print('num is odd')\n",
    "else :\n",
    "    print ('num is even')"
   ]
  },
  {
   "cell_type": "code",
   "execution_count": 8,
   "id": "ccaa2715",
   "metadata": {},
   "outputs": [
    {
     "name": "stdout",
     "output_type": "stream",
     "text": [
      "The length of the list is: 6\n"
     ]
    }
   ],
   "source": [
    "# Write a program which print the length of the list?\n",
    "listA = [\"Saim\", \"Humayun\", \"maaz\", \"subhan\", \"zaheer\", \"faizan\"]\n",
    "print(\"The length of the list is:\", len(listA))\n"
   ]
  },
  {
   "cell_type": "code",
   "execution_count": 12,
   "id": "bf5a413c",
   "metadata": {},
   "outputs": [
    {
     "name": "stdout",
     "output_type": "stream",
     "text": [
      "315\n"
     ]
    }
   ],
   "source": [
    "# Write a Python program to sum all the numeric items in a list?\n",
    "listB = [24,56,65,76,94]\n",
    "Sum = int(sum(listB))\n",
    "print(Sum)"
   ]
  },
  {
   "cell_type": "code",
   "execution_count": 14,
   "id": "97488909",
   "metadata": {},
   "outputs": [
    {
     "name": "stdout",
     "output_type": "stream",
     "text": [
      "Largest element is: 94\n"
     ]
    }
   ],
   "source": [
    "# Write a Python program to get the largest number from a numeric list.\n",
    "listc = [24,56,65,76,94]\n",
    "print(\"Largest element is:\", listc[-1])"
   ]
  },
  {
   "cell_type": "code",
   "execution_count": 31,
   "id": "f40dceee",
   "metadata": {},
   "outputs": [
    {
     "name": "stdout",
     "output_type": "stream",
     "text": [
      "1\n",
      "1\n",
      "2\n",
      "3\n"
     ]
    }
   ],
   "source": [
    "# Take a list, say for example this one:\n",
    "# a = [1, 1, 2, 3, 5, 8, 13, 21, 34, 55, 89]\n",
    "# Write a program that prints out all the elements of the list that are less than 5.\n",
    "a = [1, 1, 2, 3, 5, 8, 13, 21, 34, 55, 89]\n",
    "for i in a:\n",
    "    if i < 5:\n",
    "        print(i)\n",
    "\n",
    "\n",
    "\n",
    "\n"
   ]
  },
  {
   "cell_type": "code",
   "execution_count": null,
   "id": "caca6dae",
   "metadata": {},
   "outputs": [],
   "source": []
  },
  {
   "cell_type": "code",
   "execution_count": null,
   "id": "3adaaf1e",
   "metadata": {},
   "outputs": [],
   "source": []
  }
 ],
 "metadata": {
  "kernelspec": {
   "display_name": "Python 3",
   "language": "python",
   "name": "python3"
  },
  "language_info": {
   "codemirror_mode": {
    "name": "ipython",
    "version": 3
   },
   "file_extension": ".py",
   "mimetype": "text/x-python",
   "name": "python",
   "nbconvert_exporter": "python",
   "pygments_lexer": "ipython3",
   "version": "3.8.8"
  }
 },
 "nbformat": 4,
 "nbformat_minor": 5
}
